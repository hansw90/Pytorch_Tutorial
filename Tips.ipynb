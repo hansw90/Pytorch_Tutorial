{
 "cells": [
  {
   "cell_type": "markdown",
   "metadata": {},
   "source": [
    "# Tips\n",
    "\n",
    "#### 수식과 이미지가 많아,, 동영상 보는게 더 좋을듯합니다.\n",
    "https://www.youtube.com/watch?v=JcNkszxJuak&list=PLQ28Nx3M4JrhkqBVIXg-i5_CVVoS1UzAv&index=10\n",
    "\n",
    "- Reminder : Maximum Likelihood Estimation\n",
    "- Reminder : Optimization via Gradient Descent\n",
    "- Reminder : Overfitting and Regularization\n",
    "- Training and Test Dataset\n",
    "- Learning Rate\n",
    "- Data Preprocessing"
   ]
  },
  {
   "cell_type": "markdown",
   "metadata": {},
   "source": [
    "### Maximum Likelihood Estimation (MLE) : 최대 우도 측정\n",
    "\n",
    "__Likelihood Estimation__ 은 왜쓰는건가요??  \n",
    "\n",
    "ex) __압정던지기.__   \n",
    "우리는 압정을 던질때 앞정의 뒷면이 바닥에 가거나, 뾰족한 부분이 기울어져 세워지는 두가지 경우를 생각할 수 있습니다. (그냥 생각하세요...)  \n",
    "\n",
    "바닥이 세워지는 경우를 Class1  \n",
    "송곳이 기울어지는 경우를 Class2라 하겠습니다 :)  \n",
    "\n",
    "위와 같이 정의 한다면 이 압정던지기에 대한 확률분포는 존재할 것입니다. 우리는 그것을 인공지능을 통해 예측하려 합니다.  \n",
    "\n",
    "지금은 예측할 값이 2가지입니다. Class1,Class2  이외의 것은 없습니다.\n",
    "이항분포, 베르누이 분포를 따릅니다.  \n",
    "이항분포는 베르누이 시행을 여러번 반복하여 얻는것 입니다.  \n",
    "\n",
    "Binary Classification을 이용하면 됩니다.\n",
    "여기서 최대인 세타를 찾아야 합니다. "
   ]
  },
  {
   "cell_type": "markdown",
   "metadata": {},
   "source": [
    "### Overfitting 이란?\n",
    "\n",
    "주어진 데이터에 대해서 과도하게 실제 우리가 알고싶은 decision boundary(경계선)이 아닌 주어진 데이터에 대해서 과도하게 fitting 되어버린 결과를 __Overfitting__이라 합니다.\n",
    "\n",
    "그러면 어떻게 Overfitting을 피할 수 있을까요?\n",
    "- More Data\n",
    "- Less Features \n",
    "    - feature란 데이터의 분포를 나타내는 특징 \n",
    "    - ex)얼굴이 갸름하고, 안경을 썻고, 이발이 가지런해 등등등 \n",
    "- Regularization # Overfitting 방지\n",
    "    - Early Stopping\n",
    "        - Validation Loss가 더이상 낮아지지 않을때\n",
    "    - Reducing Network Size\n",
    "        - NN 사이즈를 줄임\n",
    "    - Weight Decay\n",
    "    - Dropout\n",
    "    - Batch Normalization\n",
    "        - Dropout 과 Batch Normalization 은 굉장히 중요하므로 따로 정리 하겠습니다.\n",
    "\n",
    "Validation\n",
    "\n",
    "Validation Loss 와 Train Loss의 차이가 벌어지는 시점부터 Overfitting이 시작된다고 할 수 있습니다.  \n"
   ]
  },
  {
   "cell_type": "code",
   "execution_count": null,
   "metadata": {},
   "outputs": [],
   "source": []
  }
 ],
 "metadata": {
  "kernelspec": {
   "display_name": "Python 3",
   "language": "python",
   "name": "python3"
  },
  "language_info": {
   "codemirror_mode": {
    "name": "ipython",
    "version": 3
   },
   "file_extension": ".py",
   "mimetype": "text/x-python",
   "name": "python",
   "nbconvert_exporter": "python",
   "pygments_lexer": "ipython3",
   "version": "3.7.4"
  }
 },
 "nbformat": 4,
 "nbformat_minor": 2
}
