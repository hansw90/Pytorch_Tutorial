{
 "cells": [
  {
   "cell_type": "markdown",
   "metadata": {},
   "source": [
    "# Time Series Data\n",
    "\n",
    "- Time Series Data\n",
    "- Apply RNN\n",
    "    - Many to One\n",
    "    - Data Reading\n",
    "    - Neural Net Setting\n",
    "    - Training & Evaluation\n",
    "- Exercise"
   ]
  },
  {
   "cell_type": "markdown",
   "metadata": {},
   "source": [
    "time series data : 시계열 데이터,  \n",
    "일정한 시간간격으로 배치된 데이터를 말합니다.  \n",
    "ex) 주가 데이터\n",
    "\n",
    "제 github Repositories에서 다루었던 내용입니다. 거기선 rnn을 사용한것은 아님,,"
   ]
  },
  {
   "cell_type": "markdown",
   "metadata": {},
   "source": [
    "![](img/20191222_231412.png)"
   ]
  },
  {
   "cell_type": "markdown",
   "metadata": {},
   "source": [
    "이모델은 8일째의 종가를 예측하기 위해서 그 전주의 기록을 보면될것이라는 전재를 가지고 만들어지는 모델입니다.  (물론 99퍼 틀림)  \n",
    "\n",
    "이 모델은 (Open, High, Low, Volume, Close)의 5개의 dimension을 가진 Vector가 첫날 input으로 들어가게 됩니다.   \n",
    "이 정보는 첫번째 셀에 들어가 어떠한 벡터 (hidden state)를 만들어냅니다 그다음,  둘째날 input과 결합되어 다음 값과 연속적으로 값을 만들어 냅니다.   \n",
    "이렇게 7개의 셀을 통과한후 8일째 종가를 예측하게 됩니다.  \n",
    "\n",
    "만약 output이 종가를 딱 예측하게 된다면 Output의 dimension은 1이 되게 됩니다.  \n",
    "각셀에서 크기가 5인 Vector들을 받아 하나의 dimension으로 압축하여 정보를 전달하기는 쉬운일이 아닙니다.  \n",
    "\n",
    "그래서 실제로는 data를 유통시키기 위해 hidden state의 dimension을 충분히 보장해주고 보장된 hiddenstate 들이 유통이 되어 마지막 출력시 마지막 output(종가)가 충분히큰(ex 10개)의 벡터를 가지고 FC를 거쳐 최종종가를 맞추는것이 일반적인 방법입니다.  "
   ]
  },
  {
   "cell_type": "markdown",
   "metadata": {},
   "source": [
    "### Apply RNN : Data Reading"
   ]
  },
  {
   "cell_type": "code",
   "execution_count": null,
   "metadata": {},
   "outputs": [],
   "source": [
    "import torch\n",
    "import torch.optim as optim\n",
    "import numpy as np\n",
    "import matplotlib.pyplot as plt\n",
    "\n",
    "# Random seed to make results determi"
   ]
  }
 ],
 "metadata": {
  "kernelspec": {
   "display_name": "Python 3",
   "language": "python",
   "name": "python3"
  },
  "language_info": {
   "codemirror_mode": {
    "name": "ipython",
    "version": 3
   },
   "file_extension": ".py",
   "mimetype": "text/x-python",
   "name": "python",
   "nbconvert_exporter": "python",
   "pygments_lexer": "ipython3",
   "version": "3.7.4"
  }
 },
 "nbformat": 4,
 "nbformat_minor": 2
}
